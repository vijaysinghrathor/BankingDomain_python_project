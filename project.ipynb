{
 "cells": [
  {
   "cell_type": "markdown",
   "id": "a2a6fe8b",
   "metadata": {},
   "source": [
    "# Python project :- Banking Domain\n",
    "1.created 'Bank' class for bank details like bank name branch name location etc.\n",
    "\n",
    "2.for account holder details created Single Inheritance derived class account with the attributes of account Id,balance etc. added methods for deposit , withdraw and balance check.\n",
    "\n",
    "3.Based on minimum Balance for account using if condition methond constructed for deposit and withdrawal.\n",
    "\n",
    "Thanks and Regards\n",
    "\n",
    "Vijay Singh Rathore"
   ]
  },
  {
   "cell_type": "code",
   "execution_count": null,
   "id": "a183b2a4",
   "metadata": {},
   "outputs": [],
   "source": [
    "# Single Inheritance\n",
    "#base class\n",
    "class Bank :\n",
    "    def __init__(self,IFSC,bankname,bankbranch,loc):\n",
    "        self.IFSC = IFSC\n",
    "        self.bankname = bankname\n",
    "        self.bankbranch = bankbranch\n",
    "        self.loc = loc\n",
    "        \n",
    "    def print_info(self):\n",
    "        print('IFSC   :',self.IFSC)\n",
    "        print('bankname    :',self.bankname)\n",
    "        print('bankbranch  :',self.bankbranch)\n",
    "        print('location    :',self.loc)"
   ]
  },
  {
   "cell_type": "code",
   "execution_count": 43,
   "id": "50539382",
   "metadata": {},
   "outputs": [],
   "source": [
    "# derived class\n",
    "class account(Bank):\n",
    "    def account_details(self,accountid,custobject,balance):\n",
    "        self.accountid = accountid\n",
    "        self.balance = balance\n",
    "        self.custobject = custobject\n",
    "        \n",
    "    def getaccount_info(self):\n",
    "        self.print_info()\n",
    "        print(\"acccount id   :\",self.accountid)\n",
    "        print('balance   :',self.balance)\n",
    "        print('customer object :',self.custobject)\n",
    "        \n",
    "    def transaction(self):\n",
    "        print(\"Hello!!! Welcome to the Deposit & Withdrawal Machine\")\n",
    " \n",
    "    def deposit(self):\n",
    "        amount=float(input(\"Enter amount to be Deposited: \"))\n",
    "        self.balance += amount\n",
    "        print(\"\\n Amount Deposited:\",amount)\n",
    " \n",
    "    def withdraw(self):\n",
    "        amount = float(input(\"Enter amount to be Withdrawn: \"))\n",
    "        if self.balance>=amount:\n",
    "            self.balance-=amount\n",
    "            print(\"\\n You Withdrew:\", amount)\n",
    "        else:\n",
    "            print(\"\\n Insufficient balance  \")\n",
    " \n",
    "    def getbalance(self):\n",
    "        print(\"\\n Net Available Balance=\",self.balance)"
   ]
  },
  {
   "cell_type": "code",
   "execution_count": 44,
   "id": "6edc34bd",
   "metadata": {},
   "outputs": [],
   "source": [
    "Ajay = account('hdfc0003931','hdfcbank','jhotwara','jaipur')"
   ]
  },
  {
   "cell_type": "code",
   "execution_count": 45,
   "id": "61ffd095",
   "metadata": {},
   "outputs": [
    {
     "name": "stdout",
     "output_type": "stream",
     "text": [
      "IFSC   : hdfc0003931\n",
      "bankname    : hdfcbank\n",
      "bankbranch  : jhotwara\n",
      "location    : jaipur\n"
     ]
    }
   ],
   "source": [
    "Ajay.print_info()"
   ]
  },
  {
   "cell_type": "code",
   "execution_count": 46,
   "id": "38d3888c",
   "metadata": {},
   "outputs": [],
   "source": [
    "Ajay.account_details(9348,'savings',10000,)"
   ]
  },
  {
   "cell_type": "code",
   "execution_count": 47,
   "id": "1b4810a0",
   "metadata": {},
   "outputs": [
    {
     "name": "stdout",
     "output_type": "stream",
     "text": [
      "IFSC   : hdfc0003931\n",
      "bankname    : hdfcbank\n",
      "bankbranch  : jhotwara\n",
      "location    : jaipur\n",
      "acccount id   : 9348\n",
      "balance   : 10000\n",
      "customer object : savings\n"
     ]
    }
   ],
   "source": [
    "Ajay.getaccount_info()"
   ]
  },
  {
   "cell_type": "code",
   "execution_count": 48,
   "id": "c2f3d5bc",
   "metadata": {},
   "outputs": [
    {
     "name": "stdout",
     "output_type": "stream",
     "text": [
      "Hello!!! Welcome to the Deposit & Withdrawal Machine\n"
     ]
    }
   ],
   "source": [
    "Ajay.transaction()"
   ]
  },
  {
   "cell_type": "code",
   "execution_count": 49,
   "id": "7d28677d",
   "metadata": {},
   "outputs": [
    {
     "name": "stdout",
     "output_type": "stream",
     "text": [
      "\n",
      " Net Available Balance= 10000\n"
     ]
    }
   ],
   "source": [
    "Ajay.getbalance()"
   ]
  },
  {
   "cell_type": "code",
   "execution_count": 50,
   "id": "1db17903",
   "metadata": {},
   "outputs": [
    {
     "name": "stdout",
     "output_type": "stream",
     "text": [
      "Enter amount to be Deposited: 99887\n",
      "\n",
      " Amount Deposited: 99887.0\n"
     ]
    }
   ],
   "source": [
    "Ajay.deposit()"
   ]
  },
  {
   "cell_type": "code",
   "execution_count": 51,
   "id": "c37ded93",
   "metadata": {},
   "outputs": [
    {
     "name": "stdout",
     "output_type": "stream",
     "text": [
      "Enter amount to be Deposited: 899\n",
      "\n",
      " Amount Deposited: 899.0\n"
     ]
    }
   ],
   "source": [
    "Ajay.deposit()"
   ]
  },
  {
   "cell_type": "code",
   "execution_count": 52,
   "id": "95e1e465",
   "metadata": {},
   "outputs": [
    {
     "name": "stdout",
     "output_type": "stream",
     "text": [
      "\n",
      " Net Available Balance= 110786.0\n"
     ]
    }
   ],
   "source": [
    "Ajay.getbalance()"
   ]
  },
  {
   "cell_type": "code",
   "execution_count": 53,
   "id": "7c74f73f",
   "metadata": {},
   "outputs": [
    {
     "name": "stdout",
     "output_type": "stream",
     "text": [
      "Enter amount to be Withdrawn: 1000\n",
      "\n",
      " You Withdrew: 1000.0\n"
     ]
    }
   ],
   "source": [
    "Ajay.withdraw()"
   ]
  },
  {
   "cell_type": "code",
   "execution_count": 54,
   "id": "c8970dac",
   "metadata": {},
   "outputs": [
    {
     "name": "stdout",
     "output_type": "stream",
     "text": [
      "\n",
      " Net Available Balance= 109786.0\n"
     ]
    }
   ],
   "source": [
    "Ajay.getbalance()"
   ]
  },
  {
   "cell_type": "code",
   "execution_count": 1,
   "id": "503e4b5f",
   "metadata": {},
   "outputs": [],
   "source": [
    "# Multilevel Inheritance\n",
    "#base class\n",
    "class Bank :\n",
    "    def __init__(self,IFSC,bankname,bankbranch,loc):\n",
    "        self.IFSC = IFSC\n",
    "        self.bankname = bankname\n",
    "        self.bankbranch = bankbranch\n",
    "        self.loc = loc\n",
    "        \n",
    "    def print_info(self):\n",
    "        print('IFSC   :',self.IFSC)\n",
    "        print('bankname    :',self.bankname)\n",
    "        print('bankbranch  :',self.bankbranch)\n",
    "        print('location    :',self.loc)"
   ]
  },
  {
   "cell_type": "code",
   "execution_count": 2,
   "id": "3192abdf",
   "metadata": {},
   "outputs": [],
   "source": [
    "class customer:\n",
    "    def __init__(self,customerID,customername,address,contactdetails):\n",
    "        self.customerID = customerID\n",
    "        self.customername = customername\n",
    "        self.address = address\n",
    "        self.contactdetails = contactdetails\n",
    "        \n",
    "    def print_info(self):\n",
    "        print('customer Id   :',self.customerID)\n",
    "        print('customer name   :',self.customername)\n",
    "        print('Address    :',self.address)\n",
    "        print('contactdetails    :',self.contactdetails)"
   ]
  },
  {
   "cell_type": "code",
   "execution_count": 3,
   "id": "350e7557",
   "metadata": {},
   "outputs": [],
   "source": [
    "# derived class of bank class\n",
    "class account(Bank):\n",
    "    def account_details(self,accountid,custobject,balance):\n",
    "        self.accountid = accountid\n",
    "        self.balance = balance\n",
    "        self.custobject = custobject\n",
    "        \n",
    "    def getaccount_info(self):\n",
    "        self.print_info()\n",
    "        print(\"acccount id   :\",self.accountid)\n",
    "        print('balance   :',self.balance)\n",
    "        print('customer object :',self.custobject)"
   ]
  },
  {
   "cell_type": "code",
   "execution_count": 25,
   "id": "423e49f3",
   "metadata": {},
   "outputs": [],
   "source": [
    "# derived class of account class\n",
    "class savingaccount(account):\n",
    "    def SminBalance(self,minBalance):\n",
    "        self.minBalance = minBalance\n",
    "        \n",
    "    def getSavingAccountInfo(self):\n",
    "        self.getaccount_info()\n",
    "        print('Minimum Balance required',self.minBalance)\n",
    "        \n",
    "    def transaction(self):\n",
    "        self.minBalance = 10000\n",
    "        print(\"Hello!!! Welcome to the Deposit & Withdrawal Machine\")\n",
    " \n",
    "    def deposit(self):\n",
    "        amount=float(input(\"Enter amount to be Deposited: \"))\n",
    "        self.balance += amount\n",
    "        print(\"\\n Amount Deposited:\",amount)\n",
    " \n",
    "    def withdraw(self):\n",
    "        amount = float(input(\"Enter amount to be Withdrawn: \"))\n",
    "        if (self.balance-self.minBalance)>=amount:\n",
    "            self.balance-=amount\n",
    "            print(\"\\n You Withdrew:\", amount)\n",
    "        else:\n",
    "            print(\"\\n Insufficient balance  \")\n",
    " \n",
    "    def getbalance(self):\n",
    "        print(\"\\n Net Available Balance=\",self.balance)\n",
    "        "
   ]
  },
  {
   "cell_type": "code",
   "execution_count": 26,
   "id": "ad24b93c",
   "metadata": {},
   "outputs": [],
   "source": [
    "Vijay = savingaccount('SBI0003931','Sbibank','Ana sagar','Ajmer')"
   ]
  },
  {
   "cell_type": "code",
   "execution_count": 27,
   "id": "910d9f58",
   "metadata": {},
   "outputs": [
    {
     "name": "stdout",
     "output_type": "stream",
     "text": [
      "IFSC   : SBI0003931\n",
      "bankname    : Sbibank\n",
      "bankbranch  : Ana sagar\n",
      "location    : Ajmer\n"
     ]
    }
   ],
   "source": [
    "Vijay.print_info()"
   ]
  },
  {
   "cell_type": "code",
   "execution_count": 28,
   "id": "2e141d22",
   "metadata": {},
   "outputs": [],
   "source": [
    "Vijay.account_details(9348,'savings',10000,)"
   ]
  },
  {
   "cell_type": "code",
   "execution_count": 29,
   "id": "79e00118",
   "metadata": {},
   "outputs": [
    {
     "name": "stdout",
     "output_type": "stream",
     "text": [
      "IFSC   : SBI0003931\n",
      "bankname    : Sbibank\n",
      "bankbranch  : Ana sagar\n",
      "location    : Ajmer\n",
      "acccount id   : 9348\n",
      "balance   : 10000\n",
      "customer object : savings\n"
     ]
    }
   ],
   "source": [
    "Vijay.getaccount_info()"
   ]
  },
  {
   "cell_type": "code",
   "execution_count": 30,
   "id": "6a10aae6",
   "metadata": {},
   "outputs": [],
   "source": [
    "Vijay.SminBalance(10000)"
   ]
  },
  {
   "cell_type": "code",
   "execution_count": 31,
   "id": "109576db",
   "metadata": {},
   "outputs": [
    {
     "name": "stdout",
     "output_type": "stream",
     "text": [
      "IFSC   : SBI0003931\n",
      "bankname    : Sbibank\n",
      "bankbranch  : Ana sagar\n",
      "location    : Ajmer\n",
      "acccount id   : 9348\n",
      "balance   : 10000\n",
      "customer object : savings\n",
      "Minimum Balance required 10000\n"
     ]
    }
   ],
   "source": [
    "Vijay.getSavingAccountInfo()"
   ]
  },
  {
   "cell_type": "code",
   "execution_count": 32,
   "id": "88cae6e9",
   "metadata": {},
   "outputs": [
    {
     "name": "stdout",
     "output_type": "stream",
     "text": [
      "Hello!!! Welcome to the Deposit & Withdrawal Machine\n"
     ]
    }
   ],
   "source": [
    "Vijay.transaction()"
   ]
  },
  {
   "cell_type": "code",
   "execution_count": 33,
   "id": "ce1a0dd8",
   "metadata": {},
   "outputs": [
    {
     "name": "stdout",
     "output_type": "stream",
     "text": [
      "Enter amount to be Deposited: 120000\n",
      "\n",
      " Amount Deposited: 120000.0\n"
     ]
    }
   ],
   "source": [
    "Vijay.deposit()"
   ]
  },
  {
   "cell_type": "code",
   "execution_count": 36,
   "id": "4d9db725",
   "metadata": {},
   "outputs": [
    {
     "name": "stdout",
     "output_type": "stream",
     "text": [
      "\n",
      " Net Available Balance= 130000.0\n"
     ]
    }
   ],
   "source": [
    "Vijay.getbalance()"
   ]
  },
  {
   "cell_type": "code",
   "execution_count": 38,
   "id": "534a0b02",
   "metadata": {},
   "outputs": [
    {
     "name": "stdout",
     "output_type": "stream",
     "text": [
      "Enter amount to be Deposited: 4000\n",
      "\n",
      " Amount Deposited: 4000.0\n"
     ]
    }
   ],
   "source": [
    "Vijay.deposit()"
   ]
  },
  {
   "cell_type": "code",
   "execution_count": 40,
   "id": "72425aea",
   "metadata": {},
   "outputs": [
    {
     "name": "stdout",
     "output_type": "stream",
     "text": [
      "\n",
      " Net Available Balance= 134000.0\n"
     ]
    }
   ],
   "source": [
    "Vijay.getbalance()"
   ]
  },
  {
   "cell_type": "code",
   "execution_count": 41,
   "id": "2fbe8032",
   "metadata": {},
   "outputs": [
    {
     "name": "stdout",
     "output_type": "stream",
     "text": [
      "Enter amount to be Withdrawn: 134000\n",
      "\n",
      " Insufficient balance  \n"
     ]
    }
   ],
   "source": [
    "Vijay.withdraw()"
   ]
  },
  {
   "cell_type": "code",
   "execution_count": 44,
   "id": "9cac49e8",
   "metadata": {},
   "outputs": [
    {
     "name": "stdout",
     "output_type": "stream",
     "text": [
      "Enter amount to be Withdrawn: 110000\n",
      "\n",
      " You Withdrew: 110000.0\n"
     ]
    }
   ],
   "source": [
    "Vijay.withdraw()\n"
   ]
  },
  {
   "cell_type": "code",
   "execution_count": 45,
   "id": "07beea9b",
   "metadata": {},
   "outputs": [
    {
     "name": "stdout",
     "output_type": "stream",
     "text": [
      "\n",
      " Net Available Balance= 12600.0\n"
     ]
    }
   ],
   "source": [
    "Vijay.getbalance()"
   ]
  },
  {
   "cell_type": "code",
   "execution_count": null,
   "id": "caf38925",
   "metadata": {},
   "outputs": [],
   "source": []
  }
 ],
 "metadata": {
  "kernelspec": {
   "display_name": "Python 3 (ipykernel)",
   "language": "python",
   "name": "python3"
  },
  "language_info": {
   "codemirror_mode": {
    "name": "ipython",
    "version": 3
   },
   "file_extension": ".py",
   "mimetype": "text/x-python",
   "name": "python",
   "nbconvert_exporter": "python",
   "pygments_lexer": "ipython3",
   "version": "3.9.2"
  }
 },
 "nbformat": 4,
 "nbformat_minor": 5
}
